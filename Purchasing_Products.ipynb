{
  "nbformat": 4,
  "nbformat_minor": 0,
  "metadata": {
    "colab": {
      "name": "Purchasing_Products.ipynb",
      "provenance": []
    },
    "kernelspec": {
      "name": "python3",
      "display_name": "Python 3"
    },
    "language_info": {
      "name": "python"
    }
  },
  "cells": [
    {
      "cell_type": "markdown",
      "metadata": {
        "id": "Zovea2MrCBMW"
      },
      "source": [
        "#**Read** **Inventory**"
      ]
    },
    {
      "cell_type": "code",
      "metadata": {
        "id": "91sRTgeoB7DF"
      },
      "source": [
        "import json\n",
        "\n",
        "fd = open(\"record.json\",'r')\n",
        "r = fd.read()\n",
        "fd.close()\n",
        "\n",
        "records = json.loads(r)"
      ],
      "execution_count": 3,
      "outputs": []
    },
    {
      "cell_type": "code",
      "metadata": {
        "colab": {
          "base_uri": "https://localhost:8080/"
        },
        "id": "8awhhG0wCvp_",
        "outputId": "6685f210-da8b-4700-d014-43ba132e3d10"
      },
      "source": [
        "records"
      ],
      "execution_count": 4,
      "outputs": [
        {
          "output_type": "execute_result",
          "data": {
            "text/plain": [
              "{'10001': {'category': 'Chocolate',\n",
              "  'expiry_date': '12-12-21',\n",
              "  'name': 'Dairy Milk',\n",
              "  'price': 40,\n",
              "  'quantity': 110},\n",
              " '10002': {'category': 'Chocolate',\n",
              "  'expiry_date': '15-02-22',\n",
              "  'name': 'Kitkat',\n",
              "  'price': 20,\n",
              "  'quantity': 150},\n",
              " '10003': {'category': 'Chocolate',\n",
              "  'expiry_date': '08-09-21',\n",
              "  'name': 'Perk',\n",
              "  'price': 10,\n",
              "  'quantity': 80},\n",
              " '10004': {'category': 'Chocolate',\n",
              "  'expiry_date': '17-10-21',\n",
              "  'name': 'Munch',\n",
              "  'price': 5,\n",
              "  'quantity': 90},\n",
              " '10005': {'category': 'SoftDrink',\n",
              "  'expiry_date': '12-02-21',\n",
              "  'name': 'Coca Cola',\n",
              "  'price': 50,\n",
              "  'quantity': 120},\n",
              " '10006': {'category': 'Soft Drink',\n",
              "  'expiry_date': '12-11-21',\n",
              "  'name': 'Mountain Dew',\n",
              "  'price': 90,\n",
              "  'quantity': 80},\n",
              " '10007': {'category': 'Soft Drink',\n",
              "  'expiry_date': '25-12-21',\n",
              "  'name': 'Thumps Up',\n",
              "  'price': 100,\n",
              "  'quantity': 50},\n",
              " '10008': {'category': 'Soft Drink',\n",
              "  'expiry_date': '28-01-22',\n",
              "  'name': 'Sprite',\n",
              "  'price': 40,\n",
              "  'quantity': 180},\n",
              " '10009': {'category': 'Snacks',\n",
              "  'expiry_date': '31-10-21',\n",
              "  'name': 'KurKure',\n",
              "  'price': 40,\n",
              "  'quantity': 200},\n",
              " '10010': {'category': 'Snacks',\n",
              "  'expiry_date': '16-11-21',\n",
              "  'name': 'Lays Chips',\n",
              "  'price': 40,\n",
              "  'quantity': 190},\n",
              " '10011': {'category': 'Snacks',\n",
              "  'expiry_date': '21-10-21',\n",
              "  'name': 'Uncle Chips',\n",
              "  'price': 40,\n",
              "  'quantity': 140},\n",
              " '10012': {'category': 'Toothpaste',\n",
              "  'expiry_date': '27-05-22',\n",
              "  'name': 'Colgate',\n",
              "  'price': 40,\n",
              "  'quantity': 60},\n",
              " '10013': {'category': 'Toothpaste',\n",
              "  'expiry_date': '20-04-22',\n",
              "  'name': 'Pepsodent',\n",
              "  'price': 40,\n",
              "  'quantity': 70},\n",
              " '10014': {'category': 'Chocolate',\n",
              "  'expiry_date': '30-11-21',\n",
              "  'name': 'Candy',\n",
              "  'price': 5,\n",
              "  'quantity': 60},\n",
              " '10015': {'category': 'Noodles',\n",
              "  'expiry_date': '26-06-22',\n",
              "  'name': 'Maggie',\n",
              "  'price': 80,\n",
              "  'quantity': 125},\n",
              " '10016': {'category': 'Noodles',\n",
              "  'expiry_date': '29-05-22',\n",
              "  'name': 'Yippy',\n",
              "  'price': 70,\n",
              "  'quantity': 115},\n",
              " '10017': {'category': 'Chocolate',\n",
              "  'expiry_date': '19-09-21',\n",
              "  'name': '5-Star',\n",
              "  'price': 10,\n",
              "  'quantity': 45},\n",
              " '10018': {'category': 'Soap',\n",
              "  'expiry_date': '22-04-22',\n",
              "  'name': 'Dove',\n",
              "  'price': 50,\n",
              "  'quantity': 55},\n",
              " '10019': {'category': 'Soap',\n",
              "  'expiry_date': '11-01-22',\n",
              "  'name': 'Pears',\n",
              "  'price': 40,\n",
              "  'quantity': 45},\n",
              " '10020': {'category': 'Fair Cream',\n",
              "  'expiry_date': '23-10-22',\n",
              "  'name': 'Fair Lovey',\n",
              "  'price': 85,\n",
              "  'quantity': 60},\n",
              " '10021': {'category': 'Fair Cream',\n",
              "  'expiry_date': '25-11-22',\n",
              "  'name': 'Fair Handsome',\n",
              "  'price': 80,\n",
              "  'quantity': 65},\n",
              " '10022': {'category': 'Facewash',\n",
              "  'expiry_date': '22-05-22',\n",
              "  'name': 'Garnier Mens Facewash',\n",
              "  'price': 90,\n",
              "  'quantity': 150},\n",
              " '10023': {'category': 'Facewash',\n",
              "  'expiry_date': '20-02-22',\n",
              "  'name': 'Beardo Facewash',\n",
              "  'price': 320,\n",
              "  'quantity': 170},\n",
              " '10024': {'category': 'Perfume',\n",
              "  'expiry_date': '18-01-23',\n",
              "  'name': 'Fogg',\n",
              "  'price': 150,\n",
              "  'quantity': 110},\n",
              " '10025': {'category': 'Perfume',\n",
              "  'expiry_date': '30-03-23',\n",
              "  'name': 'Wild Stone',\n",
              "  'price': 120,\n",
              "  'quantity': 105},\n",
              " '10026': {'category': 'Biscuit',\n",
              "  'expiry_date': '22-12-21',\n",
              "  'name': 'Moms Magic',\n",
              "  'price': 10,\n",
              "  'quantity': 120},\n",
              " '10027': {'category': 'Biscuit',\n",
              "  'expiry_date': '30-10-21',\n",
              "  'name': 'Oreo',\n",
              "  'price': 20,\n",
              "  'quantity': 100},\n",
              " '10028': {'category': 'Biscuit',\n",
              "  'expiry_date': '23-11-21',\n",
              "  'name': 'Krack Jack',\n",
              "  'price': 20,\n",
              "  'quantity': 40},\n",
              " '10029': {'category': 'Handwash',\n",
              "  'expiry_date': '15-09-22',\n",
              "  'name': 'Dettol',\n",
              "  'price': 90,\n",
              "  'quantity': 65},\n",
              " '10030': {'category': 'Handwash',\n",
              "  'expiry_date': '22-07-22',\n",
              "  'name': 'LifeBuoy',\n",
              "  'price': 80,\n",
              "  'quantity': 55},\n",
              " '10031': {'category': 'Soft Drink',\n",
              "  'expiry_date': '27-11-21',\n",
              "  'name': 'Appy Fizz',\n",
              "  'price': 30,\n",
              "  'quantity': 50}}"
            ]
          },
          "metadata": {},
          "execution_count": 4
        }
      ]
    },
    {
      "cell_type": "markdown",
      "metadata": {
        "id": "RWnnI_hZDekj"
      },
      "source": [
        "#**Purchase**"
      ]
    },
    {
      "cell_type": "code",
      "metadata": {
        "colab": {
          "base_uri": "https://localhost:8080/"
        },
        "id": "IPpy42jZDbWR",
        "outputId": "9632a3f1-b9cf-4e15-f5ba-f745acffa99c"
      },
      "source": [
        "ui_product = str(input(\"Enter the product id : \"))\n",
        "ui_quantity = int(input(\"Enter the product quantity : \"))\n",
        "\n",
        "print(\"Product: \", records[ui_product]['name'])\n",
        "print(\"Price: \", records[ui_product]['price'])\n",
        "print(\"Billing Amount: \", records[ui_product]['price'] * ui_quantity)\n",
        "\n",
        "records[ui_product]['quantity'] = records[ui_product]['quantity'] - ui_quantity"
      ],
      "execution_count": 8,
      "outputs": [
        {
          "output_type": "stream",
          "name": "stdout",
          "text": [
            "Enter the product id : 10015\n",
            "Enter the product quantity : 4\n",
            "Product:  Maggie\n",
            "Price:  80\n",
            "Billing Amount:  320\n"
          ]
        }
      ]
    },
    {
      "cell_type": "markdown",
      "metadata": {
        "id": "nZJC5j6rDzYM"
      },
      "source": [
        "#**Update** **Inventory** **After** **Purchase**"
      ]
    },
    {
      "cell_type": "code",
      "metadata": {
        "id": "gKhgj6UmDmwh"
      },
      "source": [
        "js = json.dumps(records)\n",
        "\n",
        "fd = open(\"record.json\",'w')\n",
        "fd.write(js)\n",
        "fd.close()"
      ],
      "execution_count": 9,
      "outputs": []
    },
    {
      "cell_type": "markdown",
      "metadata": {
        "id": "FkRKFAGeD73G"
      },
      "source": [
        "#**Sales** **JSON**"
      ]
    },
    {
      "cell_type": "code",
      "metadata": {
        "colab": {
          "base_uri": "https://localhost:8080/"
        },
        "id": "ydb4l4BvD6vU",
        "outputId": "823e6256-631f-485a-ec68-747ed9250fb2"
      },
      "source": [
        "{'product' : ui_product, 'quantity' : ui_quantity, 'amount': records[ui_product]['price'] * ui_quantity}"
      ],
      "execution_count": 10,
      "outputs": [
        {
          "output_type": "execute_result",
          "data": {
            "text/plain": [
              "{'amount': 320, 'product': '10015', 'quantity': 4}"
            ]
          },
          "metadata": {},
          "execution_count": 10
        }
      ]
    },
    {
      "cell_type": "code",
      "metadata": {
        "id": "NabJWe2JED2l"
      },
      "source": [
        "sales = {1 : {'product' : ui_product, 'quantity' : ui_quantity, 'amount': records[ui_product]['price'] * ui_quantity},\n",
        "         2 : {'product' : ui_product, 'quantity' : ui_quantity, 'amount': records[ui_product]['price'] * ui_quantity},\n",
        "         3 : {'product' : ui_product, 'quantity' : ui_quantity, 'amount': records[ui_product]['price'] * ui_quantity}}"
      ],
      "execution_count": 11,
      "outputs": []
    },
    {
      "cell_type": "code",
      "metadata": {
        "id": "X52wY728JmzM"
      },
      "source": [
        "sale = json.dumps(sales)"
      ],
      "execution_count": 12,
      "outputs": []
    },
    {
      "cell_type": "code",
      "metadata": {
        "id": "E5WF1HPlJpzF"
      },
      "source": [
        "fd=open(\"sales.json\",'w')\n",
        "r=fd.write(sale)\n",
        "fd.close()"
      ],
      "execution_count": 13,
      "outputs": []
    },
    {
      "cell_type": "code",
      "metadata": {
        "id": "z_zMcWJhJ1n0"
      },
      "source": [
        "fd=open(\"sales.json\",\"r\")\n",
        "r=fd.read()\n",
        "fd.close()"
      ],
      "execution_count": 15,
      "outputs": []
    },
    {
      "cell_type": "code",
      "metadata": {
        "colab": {
          "base_uri": "https://localhost:8080/",
          "height": 52
        },
        "id": "OfmpZUh0KmDT",
        "outputId": "6bbb78e0-c22a-4ab2-8457-0a0805acb588"
      },
      "source": [
        "r"
      ],
      "execution_count": 18,
      "outputs": [
        {
          "output_type": "execute_result",
          "data": {
            "application/vnd.google.colaboratory.intrinsic+json": {
              "type": "string"
            },
            "text/plain": [
              "'{\"1\": {\"product\": \"10015\", \"quantity\": 4, \"amount\": 320}, \"2\": {\"product\": \"10015\", \"quantity\": 4, \"amount\": 320}, \"3\": {\"product\": \"10015\", \"quantity\": 4, \"amount\": 320}}'"
            ]
          },
          "metadata": {},
          "execution_count": 18
        }
      ]
    },
    {
      "cell_type": "code",
      "metadata": {
        "colab": {
          "base_uri": "https://localhost:8080/",
          "height": 52
        },
        "id": "4WoBTH33Km9f",
        "outputId": "833ad428-9c1e-4332-a61e-f8cf43111bbc"
      },
      "source": [
        "sale"
      ],
      "execution_count": 19,
      "outputs": [
        {
          "output_type": "execute_result",
          "data": {
            "application/vnd.google.colaboratory.intrinsic+json": {
              "type": "string"
            },
            "text/plain": [
              "'{\"1\": {\"product\": \"10015\", \"quantity\": 4, \"amount\": 320}, \"2\": {\"product\": \"10015\", \"quantity\": 4, \"amount\": 320}, \"3\": {\"product\": \"10015\", \"quantity\": 4, \"amount\": 320}}'"
            ]
          },
          "metadata": {},
          "execution_count": 19
        }
      ]
    },
    {
      "cell_type": "code",
      "metadata": {
        "colab": {
          "base_uri": "https://localhost:8080/"
        },
        "id": "qcjWCQLGKor-",
        "outputId": "1b0324fb-9cee-40ac-eb42-6d766928c18b"
      },
      "source": [
        "sales"
      ],
      "execution_count": 20,
      "outputs": [
        {
          "output_type": "execute_result",
          "data": {
            "text/plain": [
              "{1: {'amount': 320, 'product': '10015', 'quantity': 4},\n",
              " 2: {'amount': 320, 'product': '10015', 'quantity': 4},\n",
              " 3: {'amount': 320, 'product': '10015', 'quantity': 4}}"
            ]
          },
          "metadata": {},
          "execution_count": 20
        }
      ]
    },
    {
      "cell_type": "code",
      "metadata": {
        "id": "VQWsx3i-KqRU"
      },
      "source": [
        ""
      ],
      "execution_count": null,
      "outputs": []
    }
  ]
}