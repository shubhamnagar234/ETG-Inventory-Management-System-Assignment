{
  "nbformat": 4,
  "nbformat_minor": 0,
  "metadata": {
    "colab": {
      "name": "Adding_new_Products.ipynb",
      "provenance": []
    },
    "kernelspec": {
      "name": "python3",
      "display_name": "Python 3"
    },
    "language_info": {
      "name": "python"
    }
  },
  "cells": [
    {
      "cell_type": "markdown",
      "metadata": {
        "id": "bZGZLI_m-iGN"
      },
      "source": [
        "#**Read** **Data** **From** **JSON**"
      ]
    },
    {
      "cell_type": "code",
      "metadata": {
        "id": "UPScQx70-eCY"
      },
      "source": [
        "import json\n",
        "\n",
        "fd = open(\"record.json\",'r')\n",
        "r = fd.read()\n",
        "fd.close()\n",
        "\n",
        "record = json.loads(r)"
      ],
      "execution_count": 3,
      "outputs": []
    },
    {
      "cell_type": "code",
      "metadata": {
        "colab": {
          "base_uri": "https://localhost:8080/"
        },
        "id": "-Lojh-cH_1up",
        "outputId": "dc71d5ae-5bf5-41be-c4c6-a3853abdd371"
      },
      "source": [
        "record"
      ],
      "execution_count": 4,
      "outputs": [
        {
          "output_type": "execute_result",
          "data": {
            "text/plain": [
              "{'10001': {'category': 'Chocolate',\n",
              "  'expiry_date': '12-12-21',\n",
              "  'name': 'Dairy Milk',\n",
              "  'price': 40,\n",
              "  'quantity': 110},\n",
              " '10002': {'category': 'Chocolate',\n",
              "  'expiry_date': '15-02-22',\n",
              "  'name': 'Kitkat',\n",
              "  'price': 20,\n",
              "  'quantity': 150},\n",
              " '10003': {'category': 'Chocolate',\n",
              "  'expiry_date': '08-09-21',\n",
              "  'name': 'Perk',\n",
              "  'price': 10,\n",
              "  'quantity': 80},\n",
              " '10004': {'category': 'Chocolate',\n",
              "  'expiry_date': '17-10-21',\n",
              "  'name': 'Munch',\n",
              "  'price': 5,\n",
              "  'quantity': 90},\n",
              " '10005': {'category': 'SoftDrink',\n",
              "  'expiry_date': '12-02-21',\n",
              "  'name': 'Coca Cola',\n",
              "  'price': 50,\n",
              "  'quantity': 120},\n",
              " '10006': {'category': 'Soft Drink',\n",
              "  'expiry_date': '12-11-21',\n",
              "  'name': 'Mountain Dew',\n",
              "  'price': 90,\n",
              "  'quantity': 80},\n",
              " '10007': {'category': 'Soft Drink',\n",
              "  'expiry_date': '25-12-21',\n",
              "  'name': 'Thumps Up',\n",
              "  'price': 100,\n",
              "  'quantity': 50},\n",
              " '10008': {'category': 'Soft Drink',\n",
              "  'expiry_date': '28-01-22',\n",
              "  'name': 'Sprite',\n",
              "  'price': 40,\n",
              "  'quantity': 180},\n",
              " '10009': {'category': 'Snacks',\n",
              "  'expiry_date': '31-10-21',\n",
              "  'name': 'KurKure',\n",
              "  'price': 40,\n",
              "  'quantity': 200},\n",
              " '10010': {'category': 'Snacks',\n",
              "  'expiry_date': '16-11-21',\n",
              "  'name': 'Lays Chips',\n",
              "  'price': 40,\n",
              "  'quantity': 190},\n",
              " '10011': {'category': 'Snacks',\n",
              "  'expiry_date': '21-10-21',\n",
              "  'name': 'Uncle Chips',\n",
              "  'price': 40,\n",
              "  'quantity': 140},\n",
              " '10012': {'category': 'Toothpaste',\n",
              "  'expiry_date': '27-05-22',\n",
              "  'name': 'Colgate',\n",
              "  'price': 40,\n",
              "  'quantity': 60},\n",
              " '10013': {'category': 'Toothpaste',\n",
              "  'expiry_date': '20-04-22',\n",
              "  'name': 'Pepsodent',\n",
              "  'price': 40,\n",
              "  'quantity': 70},\n",
              " '10014': {'category': 'Chocolate',\n",
              "  'expiry_date': '30-11-21',\n",
              "  'name': 'Candy',\n",
              "  'price': 5,\n",
              "  'quantity': 60},\n",
              " '10015': {'category': 'Noodles',\n",
              "  'expiry_date': '26-06-22',\n",
              "  'name': 'Maggie',\n",
              "  'price': 80,\n",
              "  'quantity': 125},\n",
              " '10016': {'category': 'Noodles',\n",
              "  'expiry_date': '29-05-22',\n",
              "  'name': 'Yippy',\n",
              "  'price': 70,\n",
              "  'quantity': 115},\n",
              " '10017': {'category': 'Chocolate',\n",
              "  'expiry_date': '19-09-21',\n",
              "  'name': '5-Star',\n",
              "  'price': 10,\n",
              "  'quantity': 45},\n",
              " '10018': {'category': 'Soap',\n",
              "  'expiry_date': '22-04-22',\n",
              "  'name': 'Dove',\n",
              "  'price': 50,\n",
              "  'quantity': 55},\n",
              " '10019': {'category': 'Soap',\n",
              "  'expiry_date': '11-01-22',\n",
              "  'name': 'Pears',\n",
              "  'price': 40,\n",
              "  'quantity': 45},\n",
              " '10020': {'category': 'Fair Cream',\n",
              "  'expiry_date': '23-10-22',\n",
              "  'name': 'Fair Lovey',\n",
              "  'price': 85,\n",
              "  'quantity': 60},\n",
              " '10021': {'category': 'Fair Cream',\n",
              "  'expiry_date': '25-11-22',\n",
              "  'name': 'Fair Handsome',\n",
              "  'price': 80,\n",
              "  'quantity': 65},\n",
              " '10022': {'category': 'Facewash',\n",
              "  'expiry_date': '22-05-22',\n",
              "  'name': 'Garnier Mens Facewash',\n",
              "  'price': 90,\n",
              "  'quantity': 150},\n",
              " '10023': {'category': 'Facewash',\n",
              "  'expiry_date': '20-02-22',\n",
              "  'name': 'Beardo Facewash',\n",
              "  'price': 320,\n",
              "  'quantity': 170},\n",
              " '10024': {'category': 'Perfume',\n",
              "  'expiry_date': '18-01-23',\n",
              "  'name': 'Fogg',\n",
              "  'price': 150,\n",
              "  'quantity': 110},\n",
              " '10025': {'category': 'Perfume',\n",
              "  'expiry_date': '30-03-23',\n",
              "  'name': 'Wild Stone',\n",
              "  'price': 120,\n",
              "  'quantity': 105},\n",
              " '10026': {'category': 'Biscuit',\n",
              "  'expiry_date': '22-12-21',\n",
              "  'name': 'Moms Magic',\n",
              "  'price': 10,\n",
              "  'quantity': 120},\n",
              " '10027': {'category': 'Biscuit',\n",
              "  'expiry_date': '30-10-21',\n",
              "  'name': 'Oreo',\n",
              "  'price': 20,\n",
              "  'quantity': 100},\n",
              " '10028': {'category': 'Biscuit',\n",
              "  'expiry_date': '23-11-21',\n",
              "  'name': 'Krack Jack',\n",
              "  'price': 20,\n",
              "  'quantity': 40},\n",
              " '10029': {'category': 'Handwash',\n",
              "  'expiry_date': '15-09-22',\n",
              "  'name': 'Dettol',\n",
              "  'price': 90,\n",
              "  'quantity': 65},\n",
              " '10030': {'category': 'Handwash',\n",
              "  'expiry_date': '22-07-22',\n",
              "  'name': 'LifeBuoy',\n",
              "  'price': 80,\n",
              "  'quantity': 55}}"
            ]
          },
          "metadata": {},
          "execution_count": 4
        }
      ]
    },
    {
      "cell_type": "markdown",
      "metadata": {
        "id": "jI6K0HgQAGwo"
      },
      "source": [
        "#**Adding** **New** **Item** **Into** **Inventory**"
      ]
    },
    {
      "cell_type": "code",
      "metadata": {
        "colab": {
          "base_uri": "https://localhost:8080/"
        },
        "id": "ZHUPpQPQACzm",
        "outputId": "2e121a28-a036-43b1-850a-e2c415313f6e"
      },
      "source": [
        "print(\"***** Now We have to add adding new item into Inventory *****\")\n",
        "product_id = str(input(\"Enter the product id :\"))\n",
        "product_name = str(input(\"Enter the name of the product :\"))\n",
        "product_category = str(input(\"Enter the category of the product : \"))\n",
        "product_price = int(input(\"Enter the price of the product :\"))\n",
        "product_quantity = int(input(\"Enter the quantity of the product :\"))\n",
        "product_expiry_date = str(input(\"Enter the expiry date of the product : \"))\n",
        "\n",
        "record[product_id] = {'name': product_name, 'category': product_category,'price': product_price, 'quantity': product_quantity,'expiry_date': product_expiry_date}\n",
        "\n",
        "js = json.dumps(record)\n",
        "\n",
        "fd = open(\"record.json\",'w')\n",
        "fd.write(js)\n",
        "fd.close()"
      ],
      "execution_count": 5,
      "outputs": [
        {
          "name": "stdout",
          "output_type": "stream",
          "text": [
            "***** Now We have to add adding new item into Inventory *****\n",
            "Enter the product id :10031\n",
            "Enter the name of the product :Appy Fizz\n",
            "Enter the category of the product : Soft Drink\n",
            "Enter the price of the product :30\n",
            "Enter the quantity of the product :50\n",
            "Enter the expiry date of the product : 27-11-21\n"
          ]
        }
      ]
    },
    {
      "cell_type": "code",
      "metadata": {
        "colab": {
          "base_uri": "https://localhost:8080/"
        },
        "id": "b6CG2zZgAKBo",
        "outputId": "c686d666-6585-4530-85cc-800e13636bb7"
      },
      "source": [
        "print(\"---***New Item is added into the Inventory***---\")\n",
        "record[product_id]"
      ],
      "execution_count": 6,
      "outputs": [
        {
          "output_type": "stream",
          "name": "stdout",
          "text": [
            "---***New Item is added into the Inventory***---\n"
          ]
        },
        {
          "output_type": "execute_result",
          "data": {
            "text/plain": [
              "{'category': 'Soft Drink',\n",
              " 'expiry_date': '27-11-21',\n",
              " 'name': 'Appy Fizz',\n",
              " 'price': 30,\n",
              " 'quantity': 50}"
            ]
          },
          "metadata": {},
          "execution_count": 6
        }
      ]
    },
    {
      "cell_type": "code",
      "metadata": {
        "colab": {
          "base_uri": "https://localhost:8080/"
        },
        "id": "j56q-Q6AA9nB",
        "outputId": "1414417b-ec1a-4a83-f833-bb1fcd1a35c8"
      },
      "source": [
        "record"
      ],
      "execution_count": 7,
      "outputs": [
        {
          "output_type": "execute_result",
          "data": {
            "text/plain": [
              "{'10001': {'category': 'Chocolate',\n",
              "  'expiry_date': '12-12-21',\n",
              "  'name': 'Dairy Milk',\n",
              "  'price': 40,\n",
              "  'quantity': 110},\n",
              " '10002': {'category': 'Chocolate',\n",
              "  'expiry_date': '15-02-22',\n",
              "  'name': 'Kitkat',\n",
              "  'price': 20,\n",
              "  'quantity': 150},\n",
              " '10003': {'category': 'Chocolate',\n",
              "  'expiry_date': '08-09-21',\n",
              "  'name': 'Perk',\n",
              "  'price': 10,\n",
              "  'quantity': 80},\n",
              " '10004': {'category': 'Chocolate',\n",
              "  'expiry_date': '17-10-21',\n",
              "  'name': 'Munch',\n",
              "  'price': 5,\n",
              "  'quantity': 90},\n",
              " '10005': {'category': 'SoftDrink',\n",
              "  'expiry_date': '12-02-21',\n",
              "  'name': 'Coca Cola',\n",
              "  'price': 50,\n",
              "  'quantity': 120},\n",
              " '10006': {'category': 'Soft Drink',\n",
              "  'expiry_date': '12-11-21',\n",
              "  'name': 'Mountain Dew',\n",
              "  'price': 90,\n",
              "  'quantity': 80},\n",
              " '10007': {'category': 'Soft Drink',\n",
              "  'expiry_date': '25-12-21',\n",
              "  'name': 'Thumps Up',\n",
              "  'price': 100,\n",
              "  'quantity': 50},\n",
              " '10008': {'category': 'Soft Drink',\n",
              "  'expiry_date': '28-01-22',\n",
              "  'name': 'Sprite',\n",
              "  'price': 40,\n",
              "  'quantity': 180},\n",
              " '10009': {'category': 'Snacks',\n",
              "  'expiry_date': '31-10-21',\n",
              "  'name': 'KurKure',\n",
              "  'price': 40,\n",
              "  'quantity': 200},\n",
              " '10010': {'category': 'Snacks',\n",
              "  'expiry_date': '16-11-21',\n",
              "  'name': 'Lays Chips',\n",
              "  'price': 40,\n",
              "  'quantity': 190},\n",
              " '10011': {'category': 'Snacks',\n",
              "  'expiry_date': '21-10-21',\n",
              "  'name': 'Uncle Chips',\n",
              "  'price': 40,\n",
              "  'quantity': 140},\n",
              " '10012': {'category': 'Toothpaste',\n",
              "  'expiry_date': '27-05-22',\n",
              "  'name': 'Colgate',\n",
              "  'price': 40,\n",
              "  'quantity': 60},\n",
              " '10013': {'category': 'Toothpaste',\n",
              "  'expiry_date': '20-04-22',\n",
              "  'name': 'Pepsodent',\n",
              "  'price': 40,\n",
              "  'quantity': 70},\n",
              " '10014': {'category': 'Chocolate',\n",
              "  'expiry_date': '30-11-21',\n",
              "  'name': 'Candy',\n",
              "  'price': 5,\n",
              "  'quantity': 60},\n",
              " '10015': {'category': 'Noodles',\n",
              "  'expiry_date': '26-06-22',\n",
              "  'name': 'Maggie',\n",
              "  'price': 80,\n",
              "  'quantity': 125},\n",
              " '10016': {'category': 'Noodles',\n",
              "  'expiry_date': '29-05-22',\n",
              "  'name': 'Yippy',\n",
              "  'price': 70,\n",
              "  'quantity': 115},\n",
              " '10017': {'category': 'Chocolate',\n",
              "  'expiry_date': '19-09-21',\n",
              "  'name': '5-Star',\n",
              "  'price': 10,\n",
              "  'quantity': 45},\n",
              " '10018': {'category': 'Soap',\n",
              "  'expiry_date': '22-04-22',\n",
              "  'name': 'Dove',\n",
              "  'price': 50,\n",
              "  'quantity': 55},\n",
              " '10019': {'category': 'Soap',\n",
              "  'expiry_date': '11-01-22',\n",
              "  'name': 'Pears',\n",
              "  'price': 40,\n",
              "  'quantity': 45},\n",
              " '10020': {'category': 'Fair Cream',\n",
              "  'expiry_date': '23-10-22',\n",
              "  'name': 'Fair Lovey',\n",
              "  'price': 85,\n",
              "  'quantity': 60},\n",
              " '10021': {'category': 'Fair Cream',\n",
              "  'expiry_date': '25-11-22',\n",
              "  'name': 'Fair Handsome',\n",
              "  'price': 80,\n",
              "  'quantity': 65},\n",
              " '10022': {'category': 'Facewash',\n",
              "  'expiry_date': '22-05-22',\n",
              "  'name': 'Garnier Mens Facewash',\n",
              "  'price': 90,\n",
              "  'quantity': 150},\n",
              " '10023': {'category': 'Facewash',\n",
              "  'expiry_date': '20-02-22',\n",
              "  'name': 'Beardo Facewash',\n",
              "  'price': 320,\n",
              "  'quantity': 170},\n",
              " '10024': {'category': 'Perfume',\n",
              "  'expiry_date': '18-01-23',\n",
              "  'name': 'Fogg',\n",
              "  'price': 150,\n",
              "  'quantity': 110},\n",
              " '10025': {'category': 'Perfume',\n",
              "  'expiry_date': '30-03-23',\n",
              "  'name': 'Wild Stone',\n",
              "  'price': 120,\n",
              "  'quantity': 105},\n",
              " '10026': {'category': 'Biscuit',\n",
              "  'expiry_date': '22-12-21',\n",
              "  'name': 'Moms Magic',\n",
              "  'price': 10,\n",
              "  'quantity': 120},\n",
              " '10027': {'category': 'Biscuit',\n",
              "  'expiry_date': '30-10-21',\n",
              "  'name': 'Oreo',\n",
              "  'price': 20,\n",
              "  'quantity': 100},\n",
              " '10028': {'category': 'Biscuit',\n",
              "  'expiry_date': '23-11-21',\n",
              "  'name': 'Krack Jack',\n",
              "  'price': 20,\n",
              "  'quantity': 40},\n",
              " '10029': {'category': 'Handwash',\n",
              "  'expiry_date': '15-09-22',\n",
              "  'name': 'Dettol',\n",
              "  'price': 90,\n",
              "  'quantity': 65},\n",
              " '10030': {'category': 'Handwash',\n",
              "  'expiry_date': '22-07-22',\n",
              "  'name': 'LifeBuoy',\n",
              "  'price': 80,\n",
              "  'quantity': 55},\n",
              " '10031': {'category': 'Soft Drink',\n",
              "  'expiry_date': '27-11-21',\n",
              "  'name': 'Appy Fizz',\n",
              "  'price': 30,\n",
              "  'quantity': 50}}"
            ]
          },
          "metadata": {},
          "execution_count": 7
        }
      ]
    },
    {
      "cell_type": "code",
      "metadata": {
        "id": "VSSWhg66Bxu9"
      },
      "source": [
        ""
      ],
      "execution_count": null,
      "outputs": []
    }
  ]
}